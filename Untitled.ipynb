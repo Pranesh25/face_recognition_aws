{
 "cells": [
  {
   "cell_type": "code",
   "execution_count": 1,
   "metadata": {},
   "outputs": [],
   "source": [
    "import cv2 as cv\n",
    "myphoto = \"myphoto.jpg\"\n",
    "cap = cv.VideoCapture(0)\n",
    "ret , photo =  cap.read()\n",
    "cv.imwrite(myphoto , photo)\n",
    "cap.release()"
   ]
  },
  {
   "cell_type": "code",
   "execution_count": 2,
   "metadata": {},
   "outputs": [
    {
     "data": {
      "text/plain": [
       "True"
      ]
     },
     "execution_count": 2,
     "metadata": {},
     "output_type": "execute_result"
    }
   ],
   "source": [
    "ret"
   ]
  },
  {
   "cell_type": "code",
   "execution_count": 3,
   "metadata": {},
   "outputs": [],
   "source": [
    "cap.release()"
   ]
  },
  {
   "cell_type": "code",
   "execution_count": 4,
   "metadata": {},
   "outputs": [],
   "source": [
    "#s3 bucket\n",
    "region = \"ap-south-1\"\n",
    "bucket = \"aiaws2\""
   ]
  },
  {
   "cell_type": "code",
   "execution_count": 5,
   "metadata": {},
   "outputs": [
    {
     "data": {
      "text/plain": [
       "'myphoto.jpg'"
      ]
     },
     "execution_count": 5,
     "metadata": {},
     "output_type": "execute_result"
    }
   ],
   "source": [
    "myphoto"
   ]
  },
  {
   "cell_type": "code",
   "execution_count": 6,
   "metadata": {},
   "outputs": [],
   "source": [
    "import boto3 as boto\n",
    "#pip install boto3"
   ]
  },
  {
   "cell_type": "code",
   "execution_count": 7,
   "metadata": {},
   "outputs": [],
   "source": [
    "s3 = boto.resource('s3')"
   ]
  },
  {
   "cell_type": "code",
   "execution_count": 8,
   "metadata": {},
   "outputs": [],
   "source": [
    "uimg =  \"file.jpg\""
   ]
  },
  {
   "cell_type": "code",
   "execution_count": 9,
   "metadata": {},
   "outputs": [],
   "source": [
    "s3.Bucket(bucket).upload_file(myphoto , uimg)"
   ]
  },
  {
   "cell_type": "code",
   "execution_count": 10,
   "metadata": {},
   "outputs": [],
   "source": [
    "#connect to rek"
   ]
  },
  {
   "cell_type": "code",
   "execution_count": 11,
   "metadata": {},
   "outputs": [],
   "source": [
    "rek = boto.client('rekognition' ,  region)"
   ]
  },
  {
   "cell_type": "code",
   "execution_count": 12,
   "metadata": {},
   "outputs": [],
   "source": [
    "response = rek.detect_labels(\n",
    "\n",
    "    Image={\n",
    "          \n",
    "          'S3Object': {\n",
    "              'Bucket': bucket,\n",
    "              'Name': uimg,\n",
    "              \n",
    "          }\n",
    "      },\n",
    "      MaxLabels=5,\n",
    "      MinConfidence=90\n",
    "\n",
    ")"
   ]
  },
  {
   "cell_type": "code",
   "execution_count": 13,
   "metadata": {},
   "outputs": [
    {
     "data": {
      "text/plain": [
       "'Person'"
      ]
     },
     "execution_count": 13,
     "metadata": {},
     "output_type": "execute_result"
    }
   ],
   "source": [
    "response['Labels'][1]['Name']"
   ]
  },
  {
   "cell_type": "code",
   "execution_count": 14,
   "metadata": {
    "scrolled": false
   },
   "outputs": [
    {
     "data": {
      "text/plain": [
       "{'Labels': [{'Name': 'Face',\n",
       "   'Confidence': 99.31161499023438,\n",
       "   'Instances': [],\n",
       "   'Parents': [{'Name': 'Person'}]},\n",
       "  {'Name': 'Person',\n",
       "   'Confidence': 99.31161499023438,\n",
       "   'Instances': [{'BoundingBox': {'Width': 0.6693962812423706,\n",
       "      'Height': 0.753494143486023,\n",
       "      'Left': 0.2582166790962219,\n",
       "      'Top': 0.2235049605369568},\n",
       "     'Confidence': 99.30186462402344},\n",
       "    {'BoundingBox': {'Width': 0.08469390869140625,\n",
       "      'Height': 0.14786703884601593,\n",
       "      'Left': 0.892765998840332,\n",
       "      'Top': 0.4862803518772125},\n",
       "     'Confidence': 72.15043640136719}],\n",
       "   'Parents': []},\n",
       "  {'Name': 'Electronics',\n",
       "   'Confidence': 97.86825561523438,\n",
       "   'Instances': [],\n",
       "   'Parents': []},\n",
       "  {'Name': 'Headphones',\n",
       "   'Confidence': 96.87889099121094,\n",
       "   'Instances': [],\n",
       "   'Parents': [{'Name': 'Electronics'}]},\n",
       "  {'Name': 'Head',\n",
       "   'Confidence': 95.88573455810547,\n",
       "   'Instances': [],\n",
       "   'Parents': []}],\n",
       " 'LabelModelVersion': '2.0',\n",
       " 'ResponseMetadata': {'RequestId': 'ec31f9e7-42fa-45ec-8cbf-28567f1d1bde',\n",
       "  'HTTPStatusCode': 200,\n",
       "  'HTTPHeaders': {'content-type': 'application/x-amz-json-1.1',\n",
       "   'date': 'Wed, 14 Apr 2021 10:11:04 GMT',\n",
       "   'x-amzn-requestid': 'ec31f9e7-42fa-45ec-8cbf-28567f1d1bde',\n",
       "   'content-length': '776',\n",
       "   'connection': 'keep-alive'},\n",
       "  'RetryAttempts': 0}}"
      ]
     },
     "execution_count": 14,
     "metadata": {},
     "output_type": "execute_result"
    }
   ],
   "source": [
    "response"
   ]
  },
  {
   "cell_type": "code",
   "execution_count": 15,
   "metadata": {},
   "outputs": [
    {
     "name": "stdout",
     "output_type": "stream",
     "text": [
      "Face\n",
      "Person\n",
      "Electronics\n",
      "Headphones\n",
      "Head\n"
     ]
    }
   ],
   "source": [
    "for x in range(5):\n",
    "    \n",
    "    print(response['Labels'][x]['Name'])"
   ]
  },
  {
   "cell_type": "code",
   "execution_count": 16,
   "metadata": {},
   "outputs": [],
   "source": [
    "#detect faces"
   ]
  },
  {
   "cell_type": "code",
   "execution_count": 17,
   "metadata": {},
   "outputs": [],
   "source": [
    "response2 = rek.detect_faces(\n",
    "\n",
    "Image={\n",
    "          \n",
    "          'S3Object': {\n",
    "              'Bucket': bucket,\n",
    "              'Name': uimg,\n",
    "              \n",
    "          }\n",
    "      },\n",
    "      Attributes = ['ALL']\n",
    "\n",
    "\n",
    ")"
   ]
  },
  {
   "cell_type": "code",
   "execution_count": 18,
   "metadata": {},
   "outputs": [
    {
     "name": "stdout",
     "output_type": "stream",
     "text": [
      "gender : - Male\n",
      "smiling : - False\n",
      "AgeRange Low : - 23\n",
      "AgeRange Low : - 35\n",
      "Emotions: - {'Type': 'CALM', 'Confidence': 95.32864379882812}\n"
     ]
    }
   ],
   "source": [
    "\n",
    "while True :\n",
    "    print(\"gender : -\" ,response2['FaceDetails'][0]['Gender']['Value'])\n",
    "    print(\"smiling : -\" , response2['FaceDetails'][0]['Smile'] ['Value'])\n",
    "    print(\"AgeRange Low : -\" , response2['FaceDetails'][0]['AgeRange']['Low'])\n",
    "    print(\"AgeRange Low : -\" , response2['FaceDetails'][0]['AgeRange']['High'])\n",
    "    print(\"Emotions: -\" , response2['FaceDetails'][0]['Emotions'][0])\n",
    "    break"
   ]
  },
  {
   "cell_type": "code",
   "execution_count": null,
   "metadata": {},
   "outputs": [],
   "source": []
  },
  {
   "cell_type": "code",
   "execution_count": null,
   "metadata": {},
   "outputs": [],
   "source": []
  },
  {
   "cell_type": "code",
   "execution_count": 19,
   "metadata": {},
   "outputs": [],
   "source": [
    "response3 = rek.detect_protective_equipment(\n",
    "\n",
    "Image={\n",
    "    \n",
    "          \n",
    "          'S3Object': {\n",
    "              'Bucket': bucket,\n",
    "              'Name': uimg,\n",
    "              \n",
    "          }\n",
    "      },\n",
    "    \n",
    "        SummarizationAttributes = {\n",
    "        'MinConfidence' : 50,\n",
    "        'RequiredEquipmentTypes' :['FACE_COVER']\n",
    "        }\n",
    "\n",
    "    \n",
    ")\n",
    "    \n",
    "\n",
    "\n"
   ]
  },
  {
   "cell_type": "code",
   "execution_count": 20,
   "metadata": {},
   "outputs": [
    {
     "data": {
      "text/plain": [
       "{'ProtectiveEquipmentModelVersion': '1.0',\n",
       " 'Persons': [{'BodyParts': [{'Name': 'FACE',\n",
       "     'Confidence': 99.20291137695312,\n",
       "     'EquipmentDetections': []},\n",
       "    {'Name': 'HEAD',\n",
       "     'Confidence': 99.9842529296875,\n",
       "     'EquipmentDetections': []}],\n",
       "   'BoundingBox': {'Width': 0.7671874761581421,\n",
       "    'Height': 0.7770833373069763,\n",
       "    'Left': 0.20156249403953552,\n",
       "    'Top': 0.22083333134651184},\n",
       "   'Confidence': 99.17913055419922,\n",
       "   'Id': 0},\n",
       "  {'BodyParts': [{'Name': 'FACE',\n",
       "     'Confidence': 88.77654266357422,\n",
       "     'EquipmentDetections': []},\n",
       "    {'Name': 'HEAD',\n",
       "     'Confidence': 98.08306884765625,\n",
       "     'EquipmentDetections': []}],\n",
       "   'BoundingBox': {'Width': 0.12656250596046448,\n",
       "    'Height': 0.12708333134651184,\n",
       "    'Left': 0.3375000059604645,\n",
       "    'Top': 0.6520833373069763},\n",
       "   'Confidence': 97.9992446899414,\n",
       "   'Id': 1}],\n",
       " 'Summary': {'PersonsWithRequiredEquipment': [],\n",
       "  'PersonsWithoutRequiredEquipment': [0, 1],\n",
       "  'PersonsIndeterminate': []},\n",
       " 'ResponseMetadata': {'RequestId': '1e3cefc3-69e9-474f-be1b-172845041a34',\n",
       "  'HTTPStatusCode': 200,\n",
       "  'HTTPHeaders': {'content-type': 'application/x-amz-json-1.1',\n",
       "   'date': 'Wed, 14 Apr 2021 10:11:05 GMT',\n",
       "   'x-amzn-requestid': '1e3cefc3-69e9-474f-be1b-172845041a34',\n",
       "   'content-length': '807',\n",
       "   'connection': 'keep-alive'},\n",
       "  'RetryAttempts': 0}}"
      ]
     },
     "execution_count": 20,
     "metadata": {},
     "output_type": "execute_result"
    }
   ],
   "source": [
    "response3"
   ]
  },
  {
   "cell_type": "code",
   "execution_count": 21,
   "metadata": {},
   "outputs": [],
   "source": [
    "import boto3 as boto\n"
   ]
  },
  {
   "cell_type": "code",
   "execution_count": 22,
   "metadata": {},
   "outputs": [],
   "source": [
    "p = boto.client('polly')\n",
    "\n"
   ]
  },
  {
   "cell_type": "code",
   "execution_count": 23,
   "metadata": {},
   "outputs": [],
   "source": [
    "res = p.synthesize_speech(Text= \"welcome\" , OutputFormat = 'mp3' , VoiceId='Ivy')\n"
   ]
  },
  {
   "cell_type": "code",
   "execution_count": 24,
   "metadata": {},
   "outputs": [],
   "source": [
    "#res['AudioStream'].read()\n"
   ]
  },
  {
   "cell_type": "code",
   "execution_count": 25,
   "metadata": {},
   "outputs": [],
   "source": [
    "file = open('myaudio.mp3' , 'wb')\n"
   ]
  },
  {
   "cell_type": "code",
   "execution_count": 26,
   "metadata": {},
   "outputs": [
    {
     "data": {
      "text/plain": [
       "3650"
      ]
     },
     "execution_count": 26,
     "metadata": {},
     "output_type": "execute_result"
    }
   ],
   "source": [
    "file.write(res['AudioStream'].read())\n"
   ]
  },
  {
   "cell_type": "code",
   "execution_count": 27,
   "metadata": {},
   "outputs": [
    {
     "data": {
      "text/html": [
       "\n",
       "                <audio  controls=\"controls\" >\n",
       "                    <source src=\"data:audio/mpeg;base64,\" type=\"audio/mpeg\" />\n",
       "                    Your browser does not support the audio element.\n",
       "                </audio>\n",
       "              "
      ],
      "text/plain": [
       "<IPython.lib.display.Audio object>"
      ]
     },
     "execution_count": 27,
     "metadata": {},
     "output_type": "execute_result"
    }
   ],
   "source": [
    "import IPython as python\n",
    "python.display.Audio(\"myaudio.mp3\")"
   ]
  },
  {
   "cell_type": "code",
   "execution_count": null,
   "metadata": {},
   "outputs": [],
   "source": []
  },
  {
   "cell_type": "code",
   "execution_count": null,
   "metadata": {},
   "outputs": [],
   "source": []
  },
  {
   "cell_type": "code",
   "execution_count": null,
   "metadata": {},
   "outputs": [],
   "source": []
  },
  {
   "cell_type": "code",
   "execution_count": null,
   "metadata": {},
   "outputs": [],
   "source": []
  },
  {
   "cell_type": "code",
   "execution_count": null,
   "metadata": {},
   "outputs": [],
   "source": []
  }
 ],
 "metadata": {
  "kernelspec": {
   "display_name": "Python 3",
   "language": "python",
   "name": "python3"
  },
  "language_info": {
   "codemirror_mode": {
    "name": "ipython",
    "version": 3
   },
   "file_extension": ".py",
   "mimetype": "text/x-python",
   "name": "python",
   "nbconvert_exporter": "python",
   "pygments_lexer": "ipython3",
   "version": "3.7.7"
  }
 },
 "nbformat": 4,
 "nbformat_minor": 4
}
